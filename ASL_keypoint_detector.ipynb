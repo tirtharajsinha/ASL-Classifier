{
 "cells": [
  {
   "cell_type": "code",
   "execution_count": 2,
   "id": "96f3708d",
   "metadata": {},
   "outputs": [],
   "source": [
    "# to subpress warning\n",
    "import warnings\n",
    "warnings.filterwarnings(\"ignore\")\n",
    "\n",
    "\n",
    "# The OS module in Python provides functions for interacting with the operating system.\n",
    "import os\n",
    "\n",
    "# Matplotlib is a data visualization and graphical plotting library for Python.\n",
    "import matplotlib.pyplot as plt\n",
    "\n",
    "# seaborn is alse a data visualization and graphical plotting library for Python.\n",
    "import seaborn as sn\n",
    "\n",
    "# Used to display markdown,image,control (frontend utilities)\n",
    "from IPython.display import display, clear_output\n",
    "\n",
    "# NumPy is a Python library used for working with arrays\n",
    "import numpy as np\n",
    "\n",
    "import pandas as pd\n",
    "\n",
    "import pickle\n",
    "# used to split dataset(features and target) into test and test\n",
    "from sklearn.model_selection import train_test_split\n",
    "from sklearn.metrics import confusion_matrix,classification_report\n",
    "\n",
    "# shuffle the dataset for a even mixture of each type of feature and target.it gives better result.\n",
    "from sklearn.utils import shuffle\n",
    "\n",
    "# Computer vision library\n",
    "import cv2\n",
    "\n",
    "# Used to manipulate different parts of the Python runtime environment.\n",
    "import sys\n",
    "\n",
    "# An open-source framework for building pipelines to perform computer vision inference.\n",
    "import mediapipe as mp\n",
    "\n",
    "# Time module provide time-related functions\n",
    "import time\n",
    "\n",
    "# Used to generate random numbers\n",
    "import random\n",
    "\n",
    "from math import log10, sqrt\n",
    "# for mathematical operations\n",
    "\n",
    "# Keras is a library that provides a Python interface for artificial neural networks. \n",
    "# Keras acts as an interface for the TensorFlow library.\n",
    "import keras\n",
    "\n",
    "import tensorflow as tf\n",
    "\n",
    "# 1. Keras layers are the building blocks of the Keras library that can be stacked together for creating neural network models.\n",
    "# 2. Keras Conv2D creates a 2D convolution kernel that is wind with layers input which helps produce a tensor of outputs.\n",
    "# 3. maxpooling2D Downsamples the input along its spatial dimensions by taking the maximum value over an input window for each channel of the input. \n",
    "# 4 .Flattening is converting the data into a 1-dimensional array for inputting it to the next layer. \n",
    "# 5 .Dropout regularization technique for reducing overfitting in neural networks by preventing complex co-adaptations on training data.\n",
    "# 6. Batch normalization is a technique for training very deep neural networks that standardizes the inputs to a layer for each mini-batch. \n",
    "from tensorflow.keras.layers import Conv2D, MaxPool2D, Flatten, Dense, Dropout, BatchNormalization\n",
    "\n",
    "#  Model groups layers into an object with training and inference features.\n",
    "from tensorflow.keras.models import Model\n",
    "\n",
    "# Optimizers are the extended class, which include added information to train a specific model.  \n",
    "# The optimizers are used for improving speed and performance for training a specific model.\n",
    "# Adam is a stochastic gradient descent method based on adaptive estimation of first-order and second-order moments.\n",
    "from tensorflow.keras.optimizers import Adam\n",
    "\n",
    "# importing Sqquential model\n",
    "from tensorflow.keras import Sequential\n",
    "\n",
    "# tensorflow.keras.callbacks is used to visualize training of a model.\n",
    "from tensorflow.keras.callbacks import TensorBoard, ModelCheckpoint "
   ]
  },
  {
   "cell_type": "code",
   "execution_count": 3,
   "id": "0d249bc0",
   "metadata": {},
   "outputs": [
    {
     "name": "stdout",
     "output_type": "stream",
     "text": [
      "PhysicalDevice(name='/physical_device:CPU:0', device_type='CPU')\n"
     ]
    }
   ],
   "source": [
    "# GPU Info \n",
    "try:\n",
    "    import GPUtil\n",
    "except:\n",
    "    !pip install GPUtil\n",
    "    import GPUtil\n",
    "\n",
    "    \n",
    "# check physical computing devices\n",
    "device=tf.config.experimental.list_physical_devices()\n",
    "for i in device:\n",
    "    print(i)\n",
    "if len(device)>1:\n",
    "    # find GPU details\n",
    "    print(\"=\"*20, \"GPU Details\", \"=\"*20)\n",
    "    gpus = GPUtil.getGPUs()\n",
    "    for gpu in gpus:\n",
    "        print(gpu_id,gpu.name, gpu.driver,gpu.memoryTotal,gpu.temperature)\n",
    "\n"
   ]
  },
  {
   "cell_type": "code",
   "execution_count": 4,
   "id": "20553871",
   "metadata": {},
   "outputs": [],
   "source": [
    "test_object={}\n",
    "with (open(\"test_data.pkl\", \"rb\")) as openfile:\n",
    "    try:\n",
    "        test_object=pickle.load(openfile)\n",
    "    except EOFError as e:\n",
    "        print(\"Error : \",e)\n",
    "\n",
    "test_x=test_object[\"test_x\"]\n",
    "test_y=test_object[\"test_y\"]\n",
    "testFilenames=test_object[\"testFilenames\"]\n",
    "unique_sign=test_object[\"unique_sign\"]"
   ]
  },
  {
   "cell_type": "code",
   "execution_count": 5,
   "id": "9dddcc2c",
   "metadata": {},
   "outputs": [
    {
     "name": "stdout",
     "output_type": "stream",
     "text": [
      "Model: \"sequential\"\n",
      "_________________________________________________________________\n",
      " Layer (type)                Output Shape              Param #   \n",
      "=================================================================\n",
      " dense (Dense)               (None, 40)                1800      \n",
      "                                                                 \n",
      " dense_1 (Dense)             (None, 40)                1640      \n",
      "                                                                 \n",
      " dense_2 (Dense)             (None, 36)                1476      \n",
      "                                                                 \n",
      "=================================================================\n",
      "Total params: 4,916\n",
      "Trainable params: 4,916\n",
      "Non-trainable params: 0\n",
      "_________________________________________________________________\n"
     ]
    }
   ],
   "source": [
    "model = tf.keras.models.load_model('./model.h5')\n",
    "model.summary()"
   ]
  },
  {
   "cell_type": "code",
   "execution_count": 6,
   "id": "9d0fbf07",
   "metadata": {},
   "outputs": [
    {
     "name": "stdout",
     "output_type": "stream",
     "text": [
      "8/8 [==============================] - 2s 5ms/step - loss: 0.4580 - accuracy: 0.9087\n"
     ]
    }
   ],
   "source": [
    "y_pred_eval=model.evaluate(test_x, test_y)\n",
    "y_pred=model.predict(test_x)"
   ]
  },
  {
   "cell_type": "code",
   "execution_count": 7,
   "id": "64146fd8",
   "metadata": {},
   "outputs": [
    {
     "data": {
      "text/html": [
       "<div>\n",
       "<style scoped>\n",
       "    .dataframe tbody tr th:only-of-type {\n",
       "        vertical-align: middle;\n",
       "    }\n",
       "\n",
       "    .dataframe tbody tr th {\n",
       "        vertical-align: top;\n",
       "    }\n",
       "\n",
       "    .dataframe thead th {\n",
       "        text-align: right;\n",
       "    }\n",
       "</style>\n",
       "<table border=\"1\" class=\"dataframe\">\n",
       "  <thead>\n",
       "    <tr style=\"text-align: right;\">\n",
       "      <th></th>\n",
       "      <th>Original</th>\n",
       "      <th>predicted</th>\n",
       "    </tr>\n",
       "  </thead>\n",
       "  <tbody>\n",
       "    <tr>\n",
       "      <th>0</th>\n",
       "      <td>1</td>\n",
       "      <td>1</td>\n",
       "    </tr>\n",
       "    <tr>\n",
       "      <th>1</th>\n",
       "      <td>v</td>\n",
       "      <td>v</td>\n",
       "    </tr>\n",
       "    <tr>\n",
       "      <th>2</th>\n",
       "      <td>z</td>\n",
       "      <td>z</td>\n",
       "    </tr>\n",
       "    <tr>\n",
       "      <th>3</th>\n",
       "      <td>e</td>\n",
       "      <td>e</td>\n",
       "    </tr>\n",
       "    <tr>\n",
       "      <th>4</th>\n",
       "      <td>b</td>\n",
       "      <td>b</td>\n",
       "    </tr>\n",
       "    <tr>\n",
       "      <th>...</th>\n",
       "      <td>...</td>\n",
       "      <td>...</td>\n",
       "    </tr>\n",
       "    <tr>\n",
       "      <th>247</th>\n",
       "      <td>w</td>\n",
       "      <td>w</td>\n",
       "    </tr>\n",
       "    <tr>\n",
       "      <th>248</th>\n",
       "      <td>u</td>\n",
       "      <td>u</td>\n",
       "    </tr>\n",
       "    <tr>\n",
       "      <th>249</th>\n",
       "      <td>p</td>\n",
       "      <td>p</td>\n",
       "    </tr>\n",
       "    <tr>\n",
       "      <th>250</th>\n",
       "      <td>w</td>\n",
       "      <td>w</td>\n",
       "    </tr>\n",
       "    <tr>\n",
       "      <th>251</th>\n",
       "      <td>k</td>\n",
       "      <td>k</td>\n",
       "    </tr>\n",
       "  </tbody>\n",
       "</table>\n",
       "<p>252 rows × 2 columns</p>\n",
       "</div>"
      ],
      "text/plain": [
       "    Original predicted\n",
       "0          1         1\n",
       "1          v         v\n",
       "2          z         z\n",
       "3          e         e\n",
       "4          b         b\n",
       "..       ...       ...\n",
       "247        w         w\n",
       "248        u         u\n",
       "249        p         p\n",
       "250        w         w\n",
       "251        k         k\n",
       "\n",
       "[252 rows x 2 columns]"
      ]
     },
     "execution_count": 7,
     "metadata": {},
     "output_type": "execute_result"
    }
   ],
   "source": [
    "y_pred_labels=[unique_sign[np.argmax(i)] for i in y_pred]\n",
    "y_test_labels=[unique_sign[np.argmax(i)] for i in test_y.values]\n",
    "df = pd.DataFrame(list(zip(y_pred_labels, y_test_labels)),\n",
    "               columns =['Original', 'predicted'])\n",
    "df"
   ]
  },
  {
   "cell_type": "code",
   "execution_count": 8,
   "id": "2411da60",
   "metadata": {},
   "outputs": [
    {
     "name": "stdout",
     "output_type": "stream",
     "text": [
      "index 6 | Original w | predicted 6\n",
      "index 17 | Original o | predicted c\n",
      "index 37 | Original 5 | predicted 4\n",
      "index 43 | Original p | predicted h\n",
      "index 49 | Original r | predicted u\n",
      "index 50 | Original w | predicted 6\n",
      "index 60 | Original c | predicted 0\n",
      "index 78 | Original c | predicted 5\n",
      "index 94 | Original w | predicted 6\n",
      "index 97 | Original 0 | predicted o\n",
      "index 120 | Original g | predicted k\n",
      "index 127 | Original g | predicted r\n",
      "index 140 | Original o | predicted c\n",
      "index 142 | Original x | predicted p\n",
      "index 150 | Original v | predicted 2\n",
      "index 157 | Original n | predicted m\n",
      "index 164 | Original w | predicted 6\n",
      "index 167 | Original a | predicted s\n",
      "index 175 | Original n | predicted m\n",
      "index 185 | Original r | predicted u\n",
      "index 190 | Original 5 | predicted 4\n",
      "index 209 | Original c | predicted 0\n",
      "index 239 | Original e | predicted m\n",
      "\n",
      "\n",
      "-----| Evaluation Result |-----\n",
      "Total : 252 \n",
      "Right : 229 \n",
      "Wrong : 23\n",
      "Accuracy : 90.87\n"
     ]
    }
   ],
   "source": [
    "Correct=0\n",
    "wrong=0\n",
    "accuracy=round(y_pred_eval[1]*100,2)\n",
    "for i in range(len(y_pred)):\n",
    "    if y_pred_labels[i]==y_test_labels[i]:\n",
    "        Correct+=1\n",
    "    else:\n",
    "        print(\"index {} | Original {} | predicted {}\".format(i,y_test_labels[i],y_pred_labels[i]))\n",
    "        wrong+=1\n",
    "print(\"\\n\\n-----| Evaluation Result |-----\")\n",
    "print(\"Total : {} \\nRight : {} \\nWrong : {}\".format(len(y_pred),Correct,wrong))\n",
    "print(\"Accuracy : {}\".format(accuracy))"
   ]
  },
  {
   "cell_type": "code",
   "execution_count": 9,
   "id": "d2399f87",
   "metadata": {},
   "outputs": [
    {
     "data": {
      "text/plain": [
       "Text(0.5, 1.0, 'ASL_keypoint_detector  |    accuracy : 90.87')"
      ]
     },
     "execution_count": 9,
     "metadata": {},
     "output_type": "execute_result"
    },
    {
     "data": {
      "image/png": "[encoded data removed]",
      "text/plain": [
       "<Figure size 720x504 with 2 Axes>"
      ]
     },
     "metadata": {
      "needs_background": "light"
     },
     "output_type": "display_data"
    }
   ],
   "source": [
    "y_pred_labels1=[np.argmax(i) for i in y_pred]\n",
    "y_test_labels1=[np.argmax(i) for i in test_y.values]\n",
    "cm=tf.math.confusion_matrix(labels=y_test_labels1,predictions=y_pred_labels1)\n",
    "\n",
    "plt.figure(figsize=(10,7))\n",
    "sn.heatmap(cm,annot=True,fmt=\"d\")\n",
    "plt.xlabel(\"Predicted\")\n",
    "plt.ylabel(\"Truth\")\n",
    "plt.title(\"ASL_keypoint_detector  |    accuracy : \"+str(round(accuracy,4)))"
   ]
  },
  {
   "cell_type": "code",
   "execution_count": 10,
   "id": "5af9a36e",
   "metadata": {},
   "outputs": [
    {
     "name": "stdout",
     "output_type": "stream",
     "text": [
      "              precision    recall  f1-score   support\n",
      "\n",
      "           0       0.60      0.75      0.67         4\n",
      "           1       1.00      1.00      1.00         8\n",
      "           2       0.75      1.00      0.86         3\n",
      "           3       1.00      1.00      1.00         7\n",
      "           4       0.78      1.00      0.88         7\n",
      "           5       0.80      0.67      0.73         6\n",
      "           6       0.43      1.00      0.60         3\n",
      "           7       1.00      1.00      1.00         6\n",
      "           8       1.00      1.00      1.00         6\n",
      "           9       1.00      1.00      1.00         4\n",
      "          10       1.00      0.86      0.92         7\n",
      "          11       1.00      1.00      1.00         8\n",
      "          12       0.85      0.79      0.81        14\n",
      "          13       1.00      1.00      1.00         5\n",
      "          14       1.00      0.88      0.93         8\n",
      "          15       1.00      1.00      1.00        10\n",
      "          16       1.00      0.78      0.88         9\n",
      "          17       0.89      1.00      0.94         8\n",
      "          18       1.00      1.00      1.00         2\n",
      "          19       1.00      1.00      1.00         6\n",
      "          20       0.90      1.00      0.95         9\n",
      "          21       1.00      1.00      1.00        11\n",
      "          22       0.40      1.00      0.57         2\n",
      "          23       1.00      0.80      0.89        10\n",
      "          24       0.88      0.78      0.82         9\n",
      "          25       0.89      0.89      0.89         9\n",
      "          26       1.00      1.00      1.00         6\n",
      "          27       0.75      0.60      0.67         5\n",
      "          28       0.89      1.00      0.94         8\n",
      "          29       1.00      1.00      1.00         6\n",
      "          30       0.83      1.00      0.91        10\n",
      "          31       1.00      0.67      0.80         3\n",
      "          32       1.00      0.64      0.78        11\n",
      "          33       1.00      0.89      0.94         9\n",
      "          34       1.00      1.00      1.00         6\n",
      "          35       1.00      1.00      1.00         7\n",
      "\n",
      "    accuracy                           0.91       252\n",
      "   macro avg       0.91      0.92      0.90       252\n",
      "weighted avg       0.93      0.91      0.91       252\n",
      "\n"
     ]
    }
   ],
   "source": [
    "print(classification_report(y_test_labels1,y_pred_labels1))"
   ]
  },
  {
   "cell_type": "code",
   "execution_count": 11,
   "id": "d736c51e",
   "metadata": {},
   "outputs": [
    {
     "data": {
      "text/plain": [
       "array([8.48045019e-17, 2.97385027e-19, 4.57308888e-02, 8.17022908e-11,\n",
       "       1.97354060e-15, 2.29107589e-16, 1.28711446e-17, 3.62123478e-06,\n",
       "       1.90529902e-22, 2.33132535e-21, 1.19669605e-18, 2.04780753e-17,\n",
       "       3.16792308e-16, 1.83208260e-09, 5.82753524e-20, 1.81538506e-10,\n",
       "       1.56384489e-31, 2.42667744e-11, 8.70259597e-21, 4.66882939e-17,\n",
       "       2.54113743e-08, 2.71559017e-14, 8.96643217e-26, 1.28928096e-14,\n",
       "       4.28961356e-22, 1.58766516e-17, 1.09600786e-17, 4.20509755e-18,\n",
       "       2.61828287e-20, 1.44793273e-15, 2.47533620e-08, 9.54265475e-01,\n",
       "       1.83417892e-18, 3.02791748e-14, 8.65387465e-19, 1.14926588e-21],\n",
       "      dtype=float32)"
      ]
     },
     "execution_count": 11,
     "metadata": {},
     "output_type": "execute_result"
    }
   ],
   "source": [
    "y_pred[1]"
   ]
  },
  {
   "cell_type": "code",
   "execution_count": null,
   "id": "51ff9ec0",
   "metadata": {},
   "outputs": [],
   "source": []
  }
 ],
 "metadata": {
  "kernelspec": {
   "display_name": "Python 3",
   "language": "python",
   "name": "python3"
  },
  "language_info": {
   "codemirror_mode": {
    "name": "ipython",
    "version": 3
   },
   "file_extension": ".py",
   "mimetype": "text/x-python",
   "name": "python",
   "nbconvert_exporter": "python",
   "pygments_lexer": "ipython3",
   "version": "3.8.8"
  }
 },
 "nbformat": 4,
 "nbformat_minor": 5
}
