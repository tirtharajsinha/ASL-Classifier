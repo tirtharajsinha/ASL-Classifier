{
 "cells": [
  {
   "cell_type": "code",
   "execution_count": 12,
   "id": "96f3708d",
   "metadata": {},
   "outputs": [],
   "source": [
    "# to subpress warning\n",
    "import warnings\n",
    "warnings.filterwarnings(\"ignore\")\n",
    "\n",
    "\n",
    "# The OS module in Python provides functions for interacting with the operating system.\n",
    "import os\n",
    "\n",
    "# Matplotlib is a data visualization and graphical plotting library for Python.\n",
    "import matplotlib.pyplot as plt\n",
    "\n",
    "# seaborn is alse a data visualization and graphical plotting library for Python.\n",
    "import seaborn as sn\n",
    "\n",
    "# Used to display markdown,image,control (frontend utilities)\n",
    "from IPython.display import display, clear_output\n",
    "\n",
    "# NumPy is a Python library used for working with arrays\n",
    "import numpy as np\n",
    "\n",
    "import pandas as pd\n",
    "\n",
    "import pickle\n",
    "# used to split dataset(features and target) into test and test\n",
    "from sklearn.model_selection import train_test_split\n",
    "from sklearn.metrics import confusion_matrix,classification_report\n",
    "\n",
    "# shuffle the dataset for a even mixture of each type of feature and target.it gives better result.\n",
    "from sklearn.utils import shuffle\n",
    "\n",
    "# Computer vision library\n",
    "import cv2\n",
    "\n",
    "# Used to manipulate different parts of the Python runtime environment.\n",
    "import sys\n",
    "\n",
    "# An open-source framework for building pipelines to perform computer vision inference.\n",
    "import mediapipe as mp\n",
    "\n",
    "# Time module provide time-related functions\n",
    "import time\n",
    "\n",
    "# Used to generate random numbers\n",
    "import random\n",
    "\n",
    "from math import log10, sqrt\n",
    "# for mathematical operations\n",
    "\n",
    "# Keras is a library that provides a Python interface for artificial neural networks. \n",
    "# Keras acts as an interface for the TensorFlow library.\n",
    "import keras\n",
    "\n",
    "import tensorflow as tf\n",
    "\n",
    "# 1. Keras layers are the building blocks of the Keras library that can be stacked together for creating neural network models.\n",
    "# 2. Keras Conv2D creates a 2D convolution kernel that is wind with layers input which helps produce a tensor of outputs.\n",
    "# 3. maxpooling2D Downsamples the input along its spatial dimensions by taking the maximum value over an input window for each channel of the input. \n",
    "# 4 .Flattening is converting the data into a 1-dimensional array for inputting it to the next layer. \n",
    "# 5 .Dropout regularization technique for reducing overfitting in neural networks by preventing complex co-adaptations on training data.\n",
    "# 6. Batch normalization is a technique for training very deep neural networks that standardizes the inputs to a layer for each mini-batch. \n",
    "from tensorflow.keras.layers import Conv2D, MaxPool2D, Flatten, Dense, Dropout, BatchNormalization\n",
    "\n",
    "#  Model groups layers into an object with training and inference features.\n",
    "from tensorflow.keras.models import Model\n",
    "\n",
    "# Optimizers are the extended class, which include added information to train a specific model.  \n",
    "# The optimizers are used for improving speed and performance for training a specific model.\n",
    "# Adam is a stochastic gradient descent method based on adaptive estimation of first-order and second-order moments.\n",
    "from tensorflow.keras.optimizers import Adam\n",
    "\n",
    "# importing Sqquential model\n",
    "from tensorflow.keras import Sequential\n",
    "\n",
    "# tensorflow.keras.callbacks is used to visualize training of a model.\n",
    "from tensorflow.keras.callbacks import TensorBoard, ModelCheckpoint "
   ]
  },
  {
   "cell_type": "code",
   "execution_count": 13,
   "id": "0d249bc0",
   "metadata": {},
   "outputs": [
    {
     "name": "stdout",
     "output_type": "stream",
     "text": [
      "PhysicalDevice(name='/physical_device:CPU:0', device_type='CPU')\n"
     ]
    }
   ],
   "source": [
    "# GPU Info \n",
    "try:\n",
    "    import GPUtil\n",
    "except:\n",
    "    !pip install GPUtil\n",
    "    import GPUtil\n",
    "\n",
    "    \n",
    "# check physical computing devices\n",
    "device=tf.config.experimental.list_physical_devices()\n",
    "for i in device:\n",
    "    print(i)\n",
    "if len(device)>1:\n",
    "    # find GPU details\n",
    "    print(\"=\"*20, \"GPU Details\", \"=\"*20)\n",
    "    gpus = GPUtil.getGPUs()\n",
    "    for gpu in gpus:\n",
    "        print(gpu_id,gpu.name, gpu.driver,gpu.memoryTotal,gpu.temperature)\n",
    "\n"
   ]
  },
  {
   "cell_type": "code",
   "execution_count": 14,
   "id": "20553871",
   "metadata": {},
   "outputs": [],
   "source": [
    "test_object={}\n",
    "with (open(\"test_data.pkl\", \"rb\")) as openfile:\n",
    "    try:\n",
    "        test_object=pickle.load(openfile)\n",
    "    except EOFError as e:\n",
    "        print(\"Error : \",e)\n",
    "\n",
    "test_x=test_object[\"test_x\"]\n",
    "test_y=test_object[\"test_y\"]\n",
    "testFilenames=test_object[\"testFilenames\"]\n",
    "unique_sign=test_object[\"unique_sign\"]"
   ]
  },
  {
   "cell_type": "code",
   "execution_count": 15,
   "id": "9dddcc2c",
   "metadata": {},
   "outputs": [
    {
     "name": "stdout",
     "output_type": "stream",
     "text": [
      "Model: \"sequential_1\"\n",
      "_________________________________________________________________\n",
      " Layer (type)                Output Shape              Param #   \n",
      "=================================================================\n",
      " dense_3 (Dense)             (None, 40)                1800      \n",
      "                                                                 \n",
      " dense_4 (Dense)             (None, 40)                1640      \n",
      "                                                                 \n",
      " dense_5 (Dense)             (None, 36)                1476      \n",
      "                                                                 \n",
      "=================================================================\n",
      "Total params: 4,916\n",
      "Trainable params: 4,916\n",
      "Non-trainable params: 0\n",
      "_________________________________________________________________\n"
     ]
    }
   ],
   "source": [
    "model = tf.keras.models.load_model('./model.h5')\n",
    "model.summary()"
   ]
  },
  {
   "cell_type": "code",
   "execution_count": 16,
   "id": "9d0fbf07",
   "metadata": {},
   "outputs": [
    {
     "name": "stdout",
     "output_type": "stream",
     "text": [
      "8/8 [==============================] - 2s 6ms/step - loss: 0.2155 - accuracy: 0.9246\n"
     ]
    }
   ],
   "source": [
    "y_pred_eval=model.evaluate(test_x, test_y)\n",
    "y_pred=model.predict(test_x)"
   ]
  },
  {
   "cell_type": "code",
   "execution_count": 17,
   "id": "64146fd8",
   "metadata": {},
   "outputs": [
    {
     "data": {
      "text/html": [
       "<div>\n",
       "<style scoped>\n",
       "    .dataframe tbody tr th:only-of-type {\n",
       "        vertical-align: middle;\n",
       "    }\n",
       "\n",
       "    .dataframe tbody tr th {\n",
       "        vertical-align: top;\n",
       "    }\n",
       "\n",
       "    .dataframe thead th {\n",
       "        text-align: right;\n",
       "    }\n",
       "</style>\n",
       "<table border=\"1\" class=\"dataframe\">\n",
       "  <thead>\n",
       "    <tr style=\"text-align: right;\">\n",
       "      <th></th>\n",
       "      <th>Original</th>\n",
       "      <th>predicted</th>\n",
       "    </tr>\n",
       "  </thead>\n",
       "  <tbody>\n",
       "    <tr>\n",
       "      <th>0</th>\n",
       "      <td>k</td>\n",
       "      <td>k</td>\n",
       "    </tr>\n",
       "    <tr>\n",
       "      <th>1</th>\n",
       "      <td>8</td>\n",
       "      <td>8</td>\n",
       "    </tr>\n",
       "    <tr>\n",
       "      <th>2</th>\n",
       "      <td>y</td>\n",
       "      <td>y</td>\n",
       "    </tr>\n",
       "    <tr>\n",
       "      <th>3</th>\n",
       "      <td>b</td>\n",
       "      <td>b</td>\n",
       "    </tr>\n",
       "    <tr>\n",
       "      <th>4</th>\n",
       "      <td>1</td>\n",
       "      <td>1</td>\n",
       "    </tr>\n",
       "    <tr>\n",
       "      <th>...</th>\n",
       "      <td>...</td>\n",
       "      <td>...</td>\n",
       "    </tr>\n",
       "    <tr>\n",
       "      <th>247</th>\n",
       "      <td>t</td>\n",
       "      <td>t</td>\n",
       "    </tr>\n",
       "    <tr>\n",
       "      <th>248</th>\n",
       "      <td>5</td>\n",
       "      <td>5</td>\n",
       "    </tr>\n",
       "    <tr>\n",
       "      <th>249</th>\n",
       "      <td>c</td>\n",
       "      <td>c</td>\n",
       "    </tr>\n",
       "    <tr>\n",
       "      <th>250</th>\n",
       "      <td>x</td>\n",
       "      <td>x</td>\n",
       "    </tr>\n",
       "    <tr>\n",
       "      <th>251</th>\n",
       "      <td>s</td>\n",
       "      <td>s</td>\n",
       "    </tr>\n",
       "  </tbody>\n",
       "</table>\n",
       "<p>252 rows × 2 columns</p>\n",
       "</div>"
      ],
      "text/plain": [
       "    Original predicted\n",
       "0          k         k\n",
       "1          8         8\n",
       "2          y         y\n",
       "3          b         b\n",
       "4          1         1\n",
       "..       ...       ...\n",
       "247        t         t\n",
       "248        5         5\n",
       "249        c         c\n",
       "250        x         x\n",
       "251        s         s\n",
       "\n",
       "[252 rows x 2 columns]"
      ]
     },
     "execution_count": 17,
     "metadata": {},
     "output_type": "execute_result"
    }
   ],
   "source": [
    "y_pred_labels=[unique_sign[np.argmax(i)] for i in y_pred]\n",
    "y_test_labels=[unique_sign[np.argmax(i)] for i in test_y.values]\n",
    "df = pd.DataFrame(list(zip(y_pred_labels, y_test_labels)),\n",
    "               columns =['Original', 'predicted'])\n",
    "df"
   ]
  },
  {
   "cell_type": "code",
   "execution_count": 18,
   "id": "2411da60",
   "metadata": {},
   "outputs": [
    {
     "name": "stdout",
     "output_type": "stream",
     "text": [
      "index 14 | Original w | predicted 6\n",
      "index 20 | Original w | predicted 6\n",
      "index 39 | Original m | predicted n\n",
      "index 49 | Original g | predicted h\n",
      "index 90 | Original m | predicted o\n",
      "index 100 | Original w | predicted 6\n",
      "index 112 | Original 0 | predicted o\n",
      "index 118 | Original w | predicted 6\n",
      "index 135 | Original t | predicted s\n",
      "index 146 | Original s | predicted t\n",
      "index 147 | Original 0 | predicted o\n",
      "index 158 | Original t | predicted a\n",
      "index 205 | Original u | predicted r\n",
      "index 209 | Original z | predicted 1\n",
      "index 213 | Original o | predicted 0\n",
      "index 224 | Original w | predicted 6\n",
      "index 232 | Original 4 | predicted 5\n",
      "index 238 | Original w | predicted 6\n",
      "index 246 | Original w | predicted 6\n",
      "\n",
      "\n",
      "-----| Evaluation Result |-----\n",
      "Total : 252 \n",
      "Right : 233 \n",
      "Wrong : 19\n",
      "Accuracy : 92.46\n"
     ]
    }
   ],
   "source": [
    "Correct=0\n",
    "wrong=0\n",
    "accuracy=round(y_pred_eval[1]*100,2)\n",
    "for i in range(len(y_pred)):\n",
    "    if y_pred_labels[i]==y_test_labels[i]:\n",
    "        Correct+=1\n",
    "    else:\n",
    "        print(\"index {} | Original {} | predicted {}\".format(i,y_test_labels[i],y_pred_labels[i]))\n",
    "        wrong+=1\n",
    "print(\"\\n\\n-----| Evaluation Result |-----\")\n",
    "print(\"Total : {} \\nRight : {} \\nWrong : {}\".format(len(y_pred),Correct,wrong))\n",
    "print(\"Accuracy : {}\".format(accuracy))"
   ]
  },
  {
   "cell_type": "code",
   "execution_count": 19,
   "id": "d2399f87",
   "metadata": {},
   "outputs": [
    {
     "data": {
      "text/plain": [
       "Text(0.5, 1.0, 'ASL_keypoint_detector  |    accuracy : 92.46')"
      ]
     },
     "execution_count": 19,
     "metadata": {},
     "output_type": "execute_result"
    },
    {
     "data": {
      "image/png": "[encoded data removed]",
      "text/plain": [
       "<Figure size 720x504 with 2 Axes>"
      ]
     },
     "metadata": {
      "needs_background": "light"
     },
     "output_type": "display_data"
    }
   ],
   "source": [
    "y_pred_labels1=[np.argmax(i) for i in y_pred]\n",
    "y_test_labels1=[np.argmax(i) for i in test_y.values]\n",
    "cm=tf.math.confusion_matrix(labels=y_test_labels1,predictions=y_pred_labels1)\n",
    "\n",
    "plt.figure(figsize=(10,7))\n",
    "sn.heatmap(cm,annot=True,fmt=\"d\")\n",
    "plt.xlabel(\"Predicted\")\n",
    "plt.ylabel(\"Truth\")\n",
    "plt.title(\"ASL_keypoint_detector  |    accuracy : \"+str(round(accuracy,4)))"
   ]
  },
  {
   "cell_type": "code",
   "execution_count": 20,
   "id": "5af9a36e",
   "metadata": {},
   "outputs": [
    {
     "name": "stdout",
     "output_type": "stream",
     "text": [
      "              precision    recall  f1-score   support\n",
      "\n",
      "           0       0.67      0.50      0.57         4\n",
      "           1       0.92      1.00      0.96        11\n",
      "           2       1.00      1.00      1.00         8\n",
      "           3       1.00      1.00      1.00         6\n",
      "           4       1.00      0.86      0.92         7\n",
      "           5       0.86      1.00      0.92         6\n",
      "           6       0.42      1.00      0.59         5\n",
      "           7       1.00      1.00      1.00         5\n",
      "           8       1.00      1.00      1.00         7\n",
      "           9       1.00      1.00      1.00         4\n",
      "          10       0.91      1.00      0.95        10\n",
      "          11       1.00      1.00      1.00        11\n",
      "          12       1.00      1.00      1.00         6\n",
      "          13       1.00      1.00      1.00         9\n",
      "          14       1.00      1.00      1.00         4\n",
      "          15       1.00      1.00      1.00         6\n",
      "          16       1.00      0.89      0.94         9\n",
      "          17       0.88      1.00      0.93         7\n",
      "          18       1.00      1.00      1.00        10\n",
      "          19       1.00      1.00      1.00         5\n",
      "          20       1.00      1.00      1.00         8\n",
      "          21       1.00      1.00      1.00         5\n",
      "          22       1.00      0.50      0.67         4\n",
      "          23       0.89      1.00      0.94         8\n",
      "          24       0.67      0.86      0.75         7\n",
      "          25       1.00      1.00      1.00         5\n",
      "          26       1.00      1.00      1.00         6\n",
      "          27       0.83      1.00      0.91         5\n",
      "          28       0.88      0.88      0.88         8\n",
      "          29       0.88      0.78      0.82         9\n",
      "          30       1.00      0.80      0.89         5\n",
      "          31       1.00      1.00      1.00         6\n",
      "          32       1.00      0.22      0.36         9\n",
      "          33       1.00      1.00      1.00         9\n",
      "          34       1.00      1.00      1.00         8\n",
      "          35       1.00      0.90      0.95        10\n",
      "\n",
      "    accuracy                           0.92       252\n",
      "   macro avg       0.94      0.92      0.92       252\n",
      "weighted avg       0.94      0.92      0.92       252\n",
      "\n"
     ]
    }
   ],
   "source": [
    "print(classification_report(y_test_labels1,y_pred_labels1))"
   ]
  },
  {
   "cell_type": "code",
   "execution_count": null,
   "id": "d736c51e",
   "metadata": {},
   "outputs": [],
   "source": []
  },
  {
   "cell_type": "code",
   "execution_count": null,
   "id": "51ff9ec0",
   "metadata": {},
   "outputs": [],
   "source": []
  }
 ],
 "metadata": {
  "kernelspec": {
   "display_name": "Python 3",
   "language": "python",
   "name": "python3"
  },
  "language_info": {
   "codemirror_mode": {
    "name": "ipython",
    "version": 3
   },
   "file_extension": ".py",
   "mimetype": "text/x-python",
   "name": "python",
   "nbconvert_exporter": "python",
   "pygments_lexer": "ipython3",
   "version": "3.8.8"
  }
 },
 "nbformat": 4,
 "nbformat_minor": 5
}
